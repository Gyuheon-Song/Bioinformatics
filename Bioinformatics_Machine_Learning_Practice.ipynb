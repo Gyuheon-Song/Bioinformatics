{
  "cells": [
    {
      "cell_type": "markdown",
      "metadata": {
        "id": "view-in-github",
        "colab_type": "text"
      },
      "source": [
        "<a href=\"https://colab.research.google.com/github/Gyuheon-Song/Bioinformatics/blob/main/Bioinformatics_Machine_Learning_Practice.ipynb\" target=\"_parent\"><img src=\"https://colab.research.google.com/assets/colab-badge.svg\" alt=\"Open In Colab\"/></a>"
      ]
    },
    {
      "cell_type": "markdown",
      "source": [
        "# How to use this tutorial"
      ],
      "metadata": {
        "id": "ATfQuxWo2GeN"
      }
    },
    {
      "cell_type": "markdown",
      "source": [
        "\n",
        "This tutorial utilizes a Colab notebook , which is an interactive computational enviroment that combines live code, visualizations, and explanatory text. To run this notebook, you may first need to **sign in with your Google account** and make a copy by choosing **File > Save a Copy in Drive** from the menu bar (may take a few moments to save).\n",
        "\n",
        "The most powerful feature of google colab is the ability to use cloud GPU for free. At first turn on the GPU from **Runtime > Change Runtime Type > Hardware Acceleration**. Then **click on the Connect button located at the top right of the page** to assign server resources.\n",
        "\n",
        "If you are connected to a runtime, you need to **upload the sample data** to the server. Click on the **'Files'** tab on the left side of the page and press the **'upload'** button at the top to upload the data. Please note that if the connection is disconnected, all the data will be deleted, so please be careful.\n",
        "\n",
        "The notebook is organized into a series of cells. You can modify the Python command and execute each cell as you would a Jupyter notebook. To execute each of the cells, **click on the black run button located at the top left of the code block.**"
      ],
      "metadata": {
        "id": "zxOqf1162DKh"
      }
    },
    {
      "cell_type": "markdown",
      "source": [
        "# 0. Background"
      ],
      "metadata": {
        "id": "Gy1Iu7D33iTE"
      }
    },
    {
      "cell_type": "markdown",
      "source": [
        "In this tutorial, we will be creating classifiers using Support Vector Machine (SVM), Multi-Layer Perceptron (MLP), Decision Tree, and Random Forest algorithms in Python 3.\n",
        "\n",
        "We will train these classifiers using gene expression profiles of LUSC and LUAD cancer samples, aiming to assess their ability to effectively discriminate between different cancer subtypes.\n",
        "\n",
        "Additionally, we will test whether these classifiers can successfully differentiate matched normal samples from LUSC and LUAD patients."
      ],
      "metadata": {
        "id": "huxUbb2c3nJU"
      }
    },
    {
      "cell_type": "code",
      "source": [
        "from google.colab import drive\n",
        "drive.mount('/content/drive')"
      ],
      "metadata": {
        "id": "st2pcsxKULpy",
        "outputId": "53a24d05-a9b3-4ac6-c09f-15331b95d7eb",
        "colab": {
          "base_uri": "https://localhost:8080/",
          "height": 314
        }
      },
      "execution_count": 32,
      "outputs": [
        {
          "output_type": "error",
          "ename": "KeyboardInterrupt",
          "evalue": "",
          "traceback": [
            "\u001b[0;31m---------------------------------------------------------------------------\u001b[0m",
            "\u001b[0;31mKeyboardInterrupt\u001b[0m                         Traceback (most recent call last)",
            "\u001b[0;32m<ipython-input-32-d5df0069828e>\u001b[0m in \u001b[0;36m<cell line: 2>\u001b[0;34m()\u001b[0m\n\u001b[1;32m      1\u001b[0m \u001b[0;32mfrom\u001b[0m \u001b[0mgoogle\u001b[0m\u001b[0;34m.\u001b[0m\u001b[0mcolab\u001b[0m \u001b[0;32mimport\u001b[0m \u001b[0mdrive\u001b[0m\u001b[0;34m\u001b[0m\u001b[0;34m\u001b[0m\u001b[0m\n\u001b[0;32m----> 2\u001b[0;31m \u001b[0mdrive\u001b[0m\u001b[0;34m.\u001b[0m\u001b[0mmount\u001b[0m\u001b[0;34m(\u001b[0m\u001b[0;34m'/content/drive'\u001b[0m\u001b[0;34m)\u001b[0m\u001b[0;34m\u001b[0m\u001b[0;34m\u001b[0m\u001b[0m\n\u001b[0m",
            "\u001b[0;32m/usr/local/lib/python3.10/dist-packages/google/colab/drive.py\u001b[0m in \u001b[0;36mmount\u001b[0;34m(mountpoint, force_remount, timeout_ms, readonly)\u001b[0m\n\u001b[1;32m     98\u001b[0m \u001b[0;32mdef\u001b[0m \u001b[0mmount\u001b[0m\u001b[0;34m(\u001b[0m\u001b[0mmountpoint\u001b[0m\u001b[0;34m,\u001b[0m \u001b[0mforce_remount\u001b[0m\u001b[0;34m=\u001b[0m\u001b[0;32mFalse\u001b[0m\u001b[0;34m,\u001b[0m \u001b[0mtimeout_ms\u001b[0m\u001b[0;34m=\u001b[0m\u001b[0;36m120000\u001b[0m\u001b[0;34m,\u001b[0m \u001b[0mreadonly\u001b[0m\u001b[0;34m=\u001b[0m\u001b[0;32mFalse\u001b[0m\u001b[0;34m)\u001b[0m\u001b[0;34m:\u001b[0m\u001b[0;34m\u001b[0m\u001b[0;34m\u001b[0m\u001b[0m\n\u001b[1;32m     99\u001b[0m   \u001b[0;34m\"\"\"Mount your Google Drive at the specified mountpoint path.\"\"\"\u001b[0m\u001b[0;34m\u001b[0m\u001b[0;34m\u001b[0m\u001b[0m\n\u001b[0;32m--> 100\u001b[0;31m   return _mount(\n\u001b[0m\u001b[1;32m    101\u001b[0m       \u001b[0mmountpoint\u001b[0m\u001b[0;34m,\u001b[0m\u001b[0;34m\u001b[0m\u001b[0;34m\u001b[0m\u001b[0m\n\u001b[1;32m    102\u001b[0m       \u001b[0mforce_remount\u001b[0m\u001b[0;34m=\u001b[0m\u001b[0mforce_remount\u001b[0m\u001b[0;34m,\u001b[0m\u001b[0;34m\u001b[0m\u001b[0;34m\u001b[0m\u001b[0m\n",
            "\u001b[0;32m/usr/local/lib/python3.10/dist-packages/google/colab/drive.py\u001b[0m in \u001b[0;36m_mount\u001b[0;34m(mountpoint, force_remount, timeout_ms, ephemeral, readonly)\u001b[0m\n\u001b[1;32m    131\u001b[0m   )\n\u001b[1;32m    132\u001b[0m   \u001b[0;32mif\u001b[0m \u001b[0mephemeral\u001b[0m\u001b[0;34m:\u001b[0m\u001b[0;34m\u001b[0m\u001b[0;34m\u001b[0m\u001b[0m\n\u001b[0;32m--> 133\u001b[0;31m     _message.blocking_request(\n\u001b[0m\u001b[1;32m    134\u001b[0m         \u001b[0;34m'request_auth'\u001b[0m\u001b[0;34m,\u001b[0m\u001b[0;34m\u001b[0m\u001b[0;34m\u001b[0m\u001b[0m\n\u001b[1;32m    135\u001b[0m         \u001b[0mrequest\u001b[0m\u001b[0;34m=\u001b[0m\u001b[0;34m{\u001b[0m\u001b[0;34m'authType'\u001b[0m\u001b[0;34m:\u001b[0m \u001b[0;34m'dfs_ephemeral'\u001b[0m\u001b[0;34m}\u001b[0m\u001b[0;34m,\u001b[0m\u001b[0;34m\u001b[0m\u001b[0;34m\u001b[0m\u001b[0m\n",
            "\u001b[0;32m/usr/local/lib/python3.10/dist-packages/google/colab/_message.py\u001b[0m in \u001b[0;36mblocking_request\u001b[0;34m(request_type, request, timeout_sec, parent)\u001b[0m\n\u001b[1;32m    174\u001b[0m       \u001b[0mrequest_type\u001b[0m\u001b[0;34m,\u001b[0m \u001b[0mrequest\u001b[0m\u001b[0;34m,\u001b[0m \u001b[0mparent\u001b[0m\u001b[0;34m=\u001b[0m\u001b[0mparent\u001b[0m\u001b[0;34m,\u001b[0m \u001b[0mexpect_reply\u001b[0m\u001b[0;34m=\u001b[0m\u001b[0;32mTrue\u001b[0m\u001b[0;34m\u001b[0m\u001b[0;34m\u001b[0m\u001b[0m\n\u001b[1;32m    175\u001b[0m   )\n\u001b[0;32m--> 176\u001b[0;31m   \u001b[0;32mreturn\u001b[0m \u001b[0mread_reply_from_input\u001b[0m\u001b[0;34m(\u001b[0m\u001b[0mrequest_id\u001b[0m\u001b[0;34m,\u001b[0m \u001b[0mtimeout_sec\u001b[0m\u001b[0;34m)\u001b[0m\u001b[0;34m\u001b[0m\u001b[0;34m\u001b[0m\u001b[0m\n\u001b[0m",
            "\u001b[0;32m/usr/local/lib/python3.10/dist-packages/google/colab/_message.py\u001b[0m in \u001b[0;36mread_reply_from_input\u001b[0;34m(message_id, timeout_sec)\u001b[0m\n\u001b[1;32m     94\u001b[0m     \u001b[0mreply\u001b[0m \u001b[0;34m=\u001b[0m \u001b[0m_read_next_input_message\u001b[0m\u001b[0;34m(\u001b[0m\u001b[0;34m)\u001b[0m\u001b[0;34m\u001b[0m\u001b[0;34m\u001b[0m\u001b[0m\n\u001b[1;32m     95\u001b[0m     \u001b[0;32mif\u001b[0m \u001b[0mreply\u001b[0m \u001b[0;34m==\u001b[0m \u001b[0m_NOT_READY\u001b[0m \u001b[0;32mor\u001b[0m \u001b[0;32mnot\u001b[0m \u001b[0misinstance\u001b[0m\u001b[0;34m(\u001b[0m\u001b[0mreply\u001b[0m\u001b[0;34m,\u001b[0m \u001b[0mdict\u001b[0m\u001b[0;34m)\u001b[0m\u001b[0;34m:\u001b[0m\u001b[0;34m\u001b[0m\u001b[0;34m\u001b[0m\u001b[0m\n\u001b[0;32m---> 96\u001b[0;31m       \u001b[0mtime\u001b[0m\u001b[0;34m.\u001b[0m\u001b[0msleep\u001b[0m\u001b[0;34m(\u001b[0m\u001b[0;36m0.025\u001b[0m\u001b[0;34m)\u001b[0m\u001b[0;34m\u001b[0m\u001b[0;34m\u001b[0m\u001b[0m\n\u001b[0m\u001b[1;32m     97\u001b[0m       \u001b[0;32mcontinue\u001b[0m\u001b[0;34m\u001b[0m\u001b[0;34m\u001b[0m\u001b[0m\n\u001b[1;32m     98\u001b[0m     if (\n",
            "\u001b[0;31mKeyboardInterrupt\u001b[0m: "
          ]
        }
      ]
    },
    {
      "cell_type": "markdown",
      "source": [
        "# 1. Import packages"
      ],
      "metadata": {
        "id": "HlfIUNK62SNe"
      }
    },
    {
      "cell_type": "code",
      "execution_count": 57,
      "metadata": {
        "id": "XMBb5Rqq0OVD"
      },
      "outputs": [],
      "source": [
        "                                    # CELL 1\n",
        "###########################################################################################################################\n",
        "### TITLE: Bioinformatics Machine Learning Practice Python3 Code                                                        ###\n",
        "### DESCRIPTION: Make Support Vector Machine, Decision Tree, Random Forest and Artificial Neural Network classifiers    ###\n",
        "### to classify lung adenocarcinoma (LUAD) and lung squamouscell carcinoma (LUSC) according to gene expression profiles.###\n",
        "### ### DATE: Version1 - Feb 22, 2018 / 1.01 May 10, 2019  / 1.02 June, 2020                                            ###\n",
        "###########################################################################################################################\n",
        "\n",
        "###########################################################################################################################\n",
        "###                888b    888              888      888888b.     d8b              888                  888             ###\n",
        "###               8888b   888              888      888  \"88b    Y8P              888                  888              ###\n",
        "###              88888b  888              888      888  .88P                     888                  888               ###\n",
        "###             888Y88b 888    .d88b.    888888   8888888K.    888    .d88b.    888        8888b.    88888b.            ###\n",
        "###            888 Y88b888   d8P  Y8b   888      888  \"Y88b   888   d88\"\"88b   888           \"88b   888 \"88b            ###\n",
        "###           888  Y88888   88888888   888      888    888   888   888  888   888       .d888888   888  888             ###\n",
        "###          888   Y8888   Y8b.       Y88b.    888   d88P   888   Y88..88P   888       888  888   888 d88P              ###\n",
        "###         888    Y888    \"Y8888     \"Y888   8888888P\"    888    \"Y88P\"    88888888  \"Y888888   88888P\"                ###\n",
        "###########################################################################################################################\n",
        "\n",
        "import pandas as pd\n",
        "import numpy as np\n",
        "\n",
        "from sklearn.model_selection import train_test_split\n",
        "\n",
        "from sklearn import tree\n",
        "from sklearn.svm import SVC\n",
        "from sklearn.neural_network import MLPClassifier\n",
        "from sklearn.tree import DecisionTreeClassifier\n",
        "from sklearn.ensemble import RandomForestClassifier\n",
        "\n",
        "from sklearn.metrics import accuracy_score\n",
        "\n",
        "#Description of each package\n",
        "#pandas, numpy: deal with matrix data\n",
        "#train_test_split: split data into test set and training set\n",
        "#MLPClassifier: make multi layer ANN\n",
        "#DecisionTreeClassifier: make Decision Tree\"\n",
        "#RandonForestClassifier: make Random Forest\n",
        "#accuracy_score: measure accuracy of models"
      ]
    },
    {
      "cell_type": "code",
      "execution_count": null,
      "metadata": {
        "id": "NiJ1gKYa0OVG"
      },
      "outputs": [],
      "source": [
        "######### This part is deprecated #########\n",
        "# CELL2\n",
        "# Add graphviz-excutable to system environment path. (only for Windows)\n",
        "# YOU DON'T NEED TO UNDERSTAND THIS PART.\n",
        "# from sys import platform\n",
        "# import os\n",
        "\n",
        "# changed = False\n",
        "# if platform == \"win32\":\n",
        "#     paths = os.environ[\"PATH\"].split(os.pathsep)\n",
        "#     for path in paths:\n",
        "#         if path.endswith(\"Anaconda3\") or path.endswith(\"anaconda3\"):\n",
        "#             path_to_anaconda = path\n",
        "#             graphviz_path = path_to_anaconda + os.altsep + os.altsep.join([\"Library\", \"bin\", \"graphviz\"])\n",
        "#             changed = True\n",
        "#             break\n",
        "\n",
        "#     if not paths[-1].endswith(os.altsep.join([\"Library\", \"bin\", \"graphviz\"])) and changed:\n",
        "#         os.environ[\"PATH\"] += (os.pathsep + graphviz_path)"
      ]
    },
    {
      "cell_type": "markdown",
      "source": [
        "# 2. Load file and show"
      ],
      "metadata": {
        "id": "STlBZHyt2byk"
      }
    },
    {
      "cell_type": "code",
      "execution_count": 58,
      "metadata": {
        "id": "mR10kwQf0OVH",
        "outputId": "1c168742-795b-4e74-c51a-bdaf1a0b2869",
        "colab": {
          "base_uri": "https://localhost:8080/",
          "height": 547
        }
      },
      "outputs": [
        {
          "output_type": "execute_result",
          "data": {
            "text/plain": [
              "                   TCGA-05-4244-01A-01R-1107-07  TCGA-05-4249-01A-01R-1107-07  \\\n",
              "Hybridization REF                                                               \n",
              "CXorf67                                  0.0000                        0.0000   \n",
              "GTPBP6                                 307.1821                      388.9237   \n",
              "EFCAB12                                 33.1617                       26.7224   \n",
              "A1BG                                    26.0302                      120.1349   \n",
              "A1CF                                     0.0000                        0.3220   \n",
              "RBFOX1                                   1.7454                        1.6098   \n",
              "GGACT                                  135.5022                       89.0629   \n",
              "A2ML1                                    0.3491                        1.6098   \n",
              "A2M                                   9844.7858                    25712.6617   \n",
              "A4GALT                                 130.9015                      578.5562   \n",
              "\n",
              "                   TCGA-05-4250-01A-01R-1107-07  TCGA-05-4382-01A-01R-1206-07  \\\n",
              "Hybridization REF                                                               \n",
              "CXorf67                                  0.0000                        7.6577   \n",
              "GTPBP6                                 391.2791                      486.0267   \n",
              "EFCAB12                                 20.2271                        4.0682   \n",
              "A1BG                                    50.8597                      145.9037   \n",
              "A1CF                                     0.0000                        0.0000   \n",
              "RBFOX1                                   0.0000                        0.0000   \n",
              "GGACT                                  151.1332                      112.0685   \n",
              "A2ML1                                    0.0000                        4.7861   \n",
              "A2M                                  16943.6359                    23326.2727   \n",
              "A4GALT                                 356.4619                      554.4677   \n",
              "\n",
              "                   TCGA-05-4384-01A-01R-1755-07  TCGA-05-4389-01A-01R-1206-07  \\\n",
              "Hybridization REF                                                               \n",
              "CXorf67                                  0.0000                        0.0000   \n",
              "GTPBP6                                 620.0367                      602.0134   \n",
              "EFCAB12                                  9.7740                        4.0268   \n",
              "A1BG                                   127.3671                       67.1409   \n",
              "A1CF                                     0.0000                       36.2416   \n",
              "RBFOX1                                   0.0000                        0.0000   \n",
              "GGACT                                   87.5748                      111.8624   \n",
              "A2ML1                                    0.0000                       36.5772   \n",
              "A2M                                  48314.5571                     7798.8960   \n",
              "A4GALT                                 152.7184                      399.3289   \n",
              "\n",
              "                   TCGA-05-4390-01A-02R-1755-07  TCGA-05-4395-01A-01R-1206-07  \\\n",
              "Hybridization REF                                                               \n",
              "CXorf67                                  0.0000                        0.0000   \n",
              "GTPBP6                                 568.4177                      561.5761   \n",
              "EFCAB12                                  5.7480                        5.6372   \n",
              "A1BG                                   164.7134                       21.9745   \n",
              "A1CF                                     0.0000                        0.0000   \n",
              "RBFOX1                                  97.7167                        0.0000   \n",
              "GGACT                                   64.9465                      180.7029   \n",
              "A2ML1                                    0.6387                      390.8484   \n",
              "A2M                                  14147.7758                     4611.4227   \n",
              "A4GALT                                 657.8317                      622.7803   \n",
              "\n",
              "                   TCGA-05-4396-01A-21R-1858-07  TCGA-05-4397-01A-01R-1206-07  \\\n",
              "Hybridization REF                                                               \n",
              "CXorf67                                  0.0000                        1.3252   \n",
              "GTPBP6                                 549.6588                      780.7841   \n",
              "EFCAB12                                 42.4564                        5.0801   \n",
              "A1BG                                    17.4375                      126.5687   \n",
              "A1CF                                    15.9212                        0.0000   \n",
              "RBFOX1                                   0.0000                        0.0000   \n",
              "GGACT                                  133.5785                      228.6295   \n",
              "A2ML1                                    0.7582                       19.2159   \n",
              "A2M                                  24726.2775                     5078.8294   \n",
              "A4GALT                                 210.7657                      843.2910   \n",
              "\n",
              "                   ...  TCGA-NJ-A4YG-01A-22R-A262-07  \\\n",
              "Hybridization REF  ...                                 \n",
              "CXorf67            ...                        0.5774   \n",
              "GTPBP6             ...                      537.5289   \n",
              "EFCAB12            ...                        6.3510   \n",
              "A1BG               ...                      190.3868   \n",
              "A1CF               ...                        1.1547   \n",
              "RBFOX1             ...                       10.9700   \n",
              "GGACT              ...                      121.6801   \n",
              "A2ML1              ...                        0.0000   \n",
              "A2M                ...                    11778.2217   \n",
              "A4GALT             ...                      112.0092   \n",
              "\n",
              "                   TCGA-NJ-A4YI-01A-11R-A262-07  TCGA-NJ-A4YP-01A-11R-A262-07  \\\n",
              "Hybridization REF                                                               \n",
              "CXorf67                                  1.3427                        1.0163   \n",
              "GTPBP6                                 669.3521                      825.4573   \n",
              "EFCAB12                                 20.1410                       14.2276   \n",
              "A1BG                                   345.6395                       72.5330   \n",
              "A1CF                                     0.6714                        0.0000   \n",
              "RBFOX1                                   0.0000                        0.0000   \n",
              "GGACT                                   74.2263                      167.7363   \n",
              "A2ML1                                    0.6714                       14.2276   \n",
              "A2M                                  19484.3505                    11934.1565   \n",
              "A4GALT                                  60.4230                      473.5772   \n",
              "\n",
              "                   TCGA-NJ-A4YQ-01A-11R-A262-07  TCGA-NJ-A55A-01A-11R-A262-07  \\\n",
              "Hybridization REF                                                               \n",
              "CXorf67                                  0.0000                        2.6226   \n",
              "GTPBP6                                 605.1475                      543.7538   \n",
              "EFCAB12                                 67.7966                      729.0847   \n",
              "A1BG                                   165.6874                       99.4055   \n",
              "A1CF                                     0.6277                        0.0000   \n",
              "RBFOX1                                   0.0000                        1.7484   \n",
              "GGACT                                   81.6259                       48.5619   \n",
              "A2ML1                                    0.0000                        0.0000   \n",
              "A2M                                  14199.5857                    55734.6883   \n",
              "A4GALT                                 152.5424                      422.2397   \n",
              "\n",
              "                   TCGA-NJ-A55O-01A-11R-A262-07  TCGA-NJ-A55R-01A-11R-A262-07  \\\n",
              "Hybridization REF                                                               \n",
              "CXorf67                                  0.0000                        1.9223   \n",
              "GTPBP6                                 767.2112                     1081.5162   \n",
              "EFCAB12                                 15.1692                       21.8658   \n",
              "A1BG                                    42.0070                      273.9088   \n",
              "A1CF                                     0.0000                       61.9932   \n",
              "RBFOX1                                   0.0000                        8.6502   \n",
              "GGACT                                  105.9218                       47.7996   \n",
              "A2ML1                                    8.7515                        0.2403   \n",
              "A2M                                  22401.3477                    28060.0132   \n",
              "A4GALT                                 950.4084                      233.0750   \n",
              "\n",
              "                   TCGA-NJ-A7XG-01A-12R-A39D-07  TCGA-O1-A52J-01A-11R-A262-07  \\\n",
              "Hybridization REF                                                               \n",
              "CXorf67                                  0.0000                        3.3493   \n",
              "GTPBP6                                 834.8025                     1620.5742   \n",
              "EFCAB12                                 20.1488                        7.1770   \n",
              "A1BG                                   245.9714                      209.4211   \n",
              "A1CF                                     0.0000                        0.0000   \n",
              "RBFOX1                                  15.1116                        0.9569   \n",
              "GGACT                                  100.0664                       29.5598   \n",
              "A2ML1                                    2.7476                        0.0000   \n",
              "A2M                                   4287.9863                    26192.7943   \n",
              "A4GALT                                 378.2484                       56.9378   \n",
              "\n",
              "                   TCGA-S2-AA1A-01A-12R-A39D-07  \n",
              "Hybridization REF                                \n",
              "CXorf67                                  2.6208  \n",
              "GTPBP6                                 567.3991  \n",
              "EFCAB12                                 36.0357  \n",
              "A1BG                                   114.5543  \n",
              "A1CF                                     0.6552  \n",
              "RBFOX1                                   0.0000  \n",
              "GGACT                                  122.9867  \n",
              "A2ML1                                    0.0000  \n",
              "A2M                                  53159.2370  \n",
              "A4GALT                                 260.1125  \n",
              "\n",
              "[10 rows x 512 columns]"
            ],
            "text/html": [
              "\n",
              "  <div id=\"df-e8698f99-529e-49ac-8079-148ac4a9b4ae\" class=\"colab-df-container\">\n",
              "    <div>\n",
              "<style scoped>\n",
              "    .dataframe tbody tr th:only-of-type {\n",
              "        vertical-align: middle;\n",
              "    }\n",
              "\n",
              "    .dataframe tbody tr th {\n",
              "        vertical-align: top;\n",
              "    }\n",
              "\n",
              "    .dataframe thead th {\n",
              "        text-align: right;\n",
              "    }\n",
              "</style>\n",
              "<table border=\"1\" class=\"dataframe\">\n",
              "  <thead>\n",
              "    <tr style=\"text-align: right;\">\n",
              "      <th></th>\n",
              "      <th>TCGA-05-4244-01A-01R-1107-07</th>\n",
              "      <th>TCGA-05-4249-01A-01R-1107-07</th>\n",
              "      <th>TCGA-05-4250-01A-01R-1107-07</th>\n",
              "      <th>TCGA-05-4382-01A-01R-1206-07</th>\n",
              "      <th>TCGA-05-4384-01A-01R-1755-07</th>\n",
              "      <th>TCGA-05-4389-01A-01R-1206-07</th>\n",
              "      <th>TCGA-05-4390-01A-02R-1755-07</th>\n",
              "      <th>TCGA-05-4395-01A-01R-1206-07</th>\n",
              "      <th>TCGA-05-4396-01A-21R-1858-07</th>\n",
              "      <th>TCGA-05-4397-01A-01R-1206-07</th>\n",
              "      <th>...</th>\n",
              "      <th>TCGA-NJ-A4YG-01A-22R-A262-07</th>\n",
              "      <th>TCGA-NJ-A4YI-01A-11R-A262-07</th>\n",
              "      <th>TCGA-NJ-A4YP-01A-11R-A262-07</th>\n",
              "      <th>TCGA-NJ-A4YQ-01A-11R-A262-07</th>\n",
              "      <th>TCGA-NJ-A55A-01A-11R-A262-07</th>\n",
              "      <th>TCGA-NJ-A55O-01A-11R-A262-07</th>\n",
              "      <th>TCGA-NJ-A55R-01A-11R-A262-07</th>\n",
              "      <th>TCGA-NJ-A7XG-01A-12R-A39D-07</th>\n",
              "      <th>TCGA-O1-A52J-01A-11R-A262-07</th>\n",
              "      <th>TCGA-S2-AA1A-01A-12R-A39D-07</th>\n",
              "    </tr>\n",
              "    <tr>\n",
              "      <th>Hybridization REF</th>\n",
              "      <th></th>\n",
              "      <th></th>\n",
              "      <th></th>\n",
              "      <th></th>\n",
              "      <th></th>\n",
              "      <th></th>\n",
              "      <th></th>\n",
              "      <th></th>\n",
              "      <th></th>\n",
              "      <th></th>\n",
              "      <th></th>\n",
              "      <th></th>\n",
              "      <th></th>\n",
              "      <th></th>\n",
              "      <th></th>\n",
              "      <th></th>\n",
              "      <th></th>\n",
              "      <th></th>\n",
              "      <th></th>\n",
              "      <th></th>\n",
              "      <th></th>\n",
              "    </tr>\n",
              "  </thead>\n",
              "  <tbody>\n",
              "    <tr>\n",
              "      <th>CXorf67</th>\n",
              "      <td>0.0000</td>\n",
              "      <td>0.0000</td>\n",
              "      <td>0.0000</td>\n",
              "      <td>7.6577</td>\n",
              "      <td>0.0000</td>\n",
              "      <td>0.0000</td>\n",
              "      <td>0.0000</td>\n",
              "      <td>0.0000</td>\n",
              "      <td>0.0000</td>\n",
              "      <td>1.3252</td>\n",
              "      <td>...</td>\n",
              "      <td>0.5774</td>\n",
              "      <td>1.3427</td>\n",
              "      <td>1.0163</td>\n",
              "      <td>0.0000</td>\n",
              "      <td>2.6226</td>\n",
              "      <td>0.0000</td>\n",
              "      <td>1.9223</td>\n",
              "      <td>0.0000</td>\n",
              "      <td>3.3493</td>\n",
              "      <td>2.6208</td>\n",
              "    </tr>\n",
              "    <tr>\n",
              "      <th>GTPBP6</th>\n",
              "      <td>307.1821</td>\n",
              "      <td>388.9237</td>\n",
              "      <td>391.2791</td>\n",
              "      <td>486.0267</td>\n",
              "      <td>620.0367</td>\n",
              "      <td>602.0134</td>\n",
              "      <td>568.4177</td>\n",
              "      <td>561.5761</td>\n",
              "      <td>549.6588</td>\n",
              "      <td>780.7841</td>\n",
              "      <td>...</td>\n",
              "      <td>537.5289</td>\n",
              "      <td>669.3521</td>\n",
              "      <td>825.4573</td>\n",
              "      <td>605.1475</td>\n",
              "      <td>543.7538</td>\n",
              "      <td>767.2112</td>\n",
              "      <td>1081.5162</td>\n",
              "      <td>834.8025</td>\n",
              "      <td>1620.5742</td>\n",
              "      <td>567.3991</td>\n",
              "    </tr>\n",
              "    <tr>\n",
              "      <th>EFCAB12</th>\n",
              "      <td>33.1617</td>\n",
              "      <td>26.7224</td>\n",
              "      <td>20.2271</td>\n",
              "      <td>4.0682</td>\n",
              "      <td>9.7740</td>\n",
              "      <td>4.0268</td>\n",
              "      <td>5.7480</td>\n",
              "      <td>5.6372</td>\n",
              "      <td>42.4564</td>\n",
              "      <td>5.0801</td>\n",
              "      <td>...</td>\n",
              "      <td>6.3510</td>\n",
              "      <td>20.1410</td>\n",
              "      <td>14.2276</td>\n",
              "      <td>67.7966</td>\n",
              "      <td>729.0847</td>\n",
              "      <td>15.1692</td>\n",
              "      <td>21.8658</td>\n",
              "      <td>20.1488</td>\n",
              "      <td>7.1770</td>\n",
              "      <td>36.0357</td>\n",
              "    </tr>\n",
              "    <tr>\n",
              "      <th>A1BG</th>\n",
              "      <td>26.0302</td>\n",
              "      <td>120.1349</td>\n",
              "      <td>50.8597</td>\n",
              "      <td>145.9037</td>\n",
              "      <td>127.3671</td>\n",
              "      <td>67.1409</td>\n",
              "      <td>164.7134</td>\n",
              "      <td>21.9745</td>\n",
              "      <td>17.4375</td>\n",
              "      <td>126.5687</td>\n",
              "      <td>...</td>\n",
              "      <td>190.3868</td>\n",
              "      <td>345.6395</td>\n",
              "      <td>72.5330</td>\n",
              "      <td>165.6874</td>\n",
              "      <td>99.4055</td>\n",
              "      <td>42.0070</td>\n",
              "      <td>273.9088</td>\n",
              "      <td>245.9714</td>\n",
              "      <td>209.4211</td>\n",
              "      <td>114.5543</td>\n",
              "    </tr>\n",
              "    <tr>\n",
              "      <th>A1CF</th>\n",
              "      <td>0.0000</td>\n",
              "      <td>0.3220</td>\n",
              "      <td>0.0000</td>\n",
              "      <td>0.0000</td>\n",
              "      <td>0.0000</td>\n",
              "      <td>36.2416</td>\n",
              "      <td>0.0000</td>\n",
              "      <td>0.0000</td>\n",
              "      <td>15.9212</td>\n",
              "      <td>0.0000</td>\n",
              "      <td>...</td>\n",
              "      <td>1.1547</td>\n",
              "      <td>0.6714</td>\n",
              "      <td>0.0000</td>\n",
              "      <td>0.6277</td>\n",
              "      <td>0.0000</td>\n",
              "      <td>0.0000</td>\n",
              "      <td>61.9932</td>\n",
              "      <td>0.0000</td>\n",
              "      <td>0.0000</td>\n",
              "      <td>0.6552</td>\n",
              "    </tr>\n",
              "    <tr>\n",
              "      <th>RBFOX1</th>\n",
              "      <td>1.7454</td>\n",
              "      <td>1.6098</td>\n",
              "      <td>0.0000</td>\n",
              "      <td>0.0000</td>\n",
              "      <td>0.0000</td>\n",
              "      <td>0.0000</td>\n",
              "      <td>97.7167</td>\n",
              "      <td>0.0000</td>\n",
              "      <td>0.0000</td>\n",
              "      <td>0.0000</td>\n",
              "      <td>...</td>\n",
              "      <td>10.9700</td>\n",
              "      <td>0.0000</td>\n",
              "      <td>0.0000</td>\n",
              "      <td>0.0000</td>\n",
              "      <td>1.7484</td>\n",
              "      <td>0.0000</td>\n",
              "      <td>8.6502</td>\n",
              "      <td>15.1116</td>\n",
              "      <td>0.9569</td>\n",
              "      <td>0.0000</td>\n",
              "    </tr>\n",
              "    <tr>\n",
              "      <th>GGACT</th>\n",
              "      <td>135.5022</td>\n",
              "      <td>89.0629</td>\n",
              "      <td>151.1332</td>\n",
              "      <td>112.0685</td>\n",
              "      <td>87.5748</td>\n",
              "      <td>111.8624</td>\n",
              "      <td>64.9465</td>\n",
              "      <td>180.7029</td>\n",
              "      <td>133.5785</td>\n",
              "      <td>228.6295</td>\n",
              "      <td>...</td>\n",
              "      <td>121.6801</td>\n",
              "      <td>74.2263</td>\n",
              "      <td>167.7363</td>\n",
              "      <td>81.6259</td>\n",
              "      <td>48.5619</td>\n",
              "      <td>105.9218</td>\n",
              "      <td>47.7996</td>\n",
              "      <td>100.0664</td>\n",
              "      <td>29.5598</td>\n",
              "      <td>122.9867</td>\n",
              "    </tr>\n",
              "    <tr>\n",
              "      <th>A2ML1</th>\n",
              "      <td>0.3491</td>\n",
              "      <td>1.6098</td>\n",
              "      <td>0.0000</td>\n",
              "      <td>4.7861</td>\n",
              "      <td>0.0000</td>\n",
              "      <td>36.5772</td>\n",
              "      <td>0.6387</td>\n",
              "      <td>390.8484</td>\n",
              "      <td>0.7582</td>\n",
              "      <td>19.2159</td>\n",
              "      <td>...</td>\n",
              "      <td>0.0000</td>\n",
              "      <td>0.6714</td>\n",
              "      <td>14.2276</td>\n",
              "      <td>0.0000</td>\n",
              "      <td>0.0000</td>\n",
              "      <td>8.7515</td>\n",
              "      <td>0.2403</td>\n",
              "      <td>2.7476</td>\n",
              "      <td>0.0000</td>\n",
              "      <td>0.0000</td>\n",
              "    </tr>\n",
              "    <tr>\n",
              "      <th>A2M</th>\n",
              "      <td>9844.7858</td>\n",
              "      <td>25712.6617</td>\n",
              "      <td>16943.6359</td>\n",
              "      <td>23326.2727</td>\n",
              "      <td>48314.5571</td>\n",
              "      <td>7798.8960</td>\n",
              "      <td>14147.7758</td>\n",
              "      <td>4611.4227</td>\n",
              "      <td>24726.2775</td>\n",
              "      <td>5078.8294</td>\n",
              "      <td>...</td>\n",
              "      <td>11778.2217</td>\n",
              "      <td>19484.3505</td>\n",
              "      <td>11934.1565</td>\n",
              "      <td>14199.5857</td>\n",
              "      <td>55734.6883</td>\n",
              "      <td>22401.3477</td>\n",
              "      <td>28060.0132</td>\n",
              "      <td>4287.9863</td>\n",
              "      <td>26192.7943</td>\n",
              "      <td>53159.2370</td>\n",
              "    </tr>\n",
              "    <tr>\n",
              "      <th>A4GALT</th>\n",
              "      <td>130.9015</td>\n",
              "      <td>578.5562</td>\n",
              "      <td>356.4619</td>\n",
              "      <td>554.4677</td>\n",
              "      <td>152.7184</td>\n",
              "      <td>399.3289</td>\n",
              "      <td>657.8317</td>\n",
              "      <td>622.7803</td>\n",
              "      <td>210.7657</td>\n",
              "      <td>843.2910</td>\n",
              "      <td>...</td>\n",
              "      <td>112.0092</td>\n",
              "      <td>60.4230</td>\n",
              "      <td>473.5772</td>\n",
              "      <td>152.5424</td>\n",
              "      <td>422.2397</td>\n",
              "      <td>950.4084</td>\n",
              "      <td>233.0750</td>\n",
              "      <td>378.2484</td>\n",
              "      <td>56.9378</td>\n",
              "      <td>260.1125</td>\n",
              "    </tr>\n",
              "  </tbody>\n",
              "</table>\n",
              "<p>10 rows × 512 columns</p>\n",
              "</div>\n",
              "    <div class=\"colab-df-buttons\">\n",
              "\n",
              "  <div class=\"colab-df-container\">\n",
              "    <button class=\"colab-df-convert\" onclick=\"convertToInteractive('df-e8698f99-529e-49ac-8079-148ac4a9b4ae')\"\n",
              "            title=\"Convert this dataframe to an interactive table.\"\n",
              "            style=\"display:none;\">\n",
              "\n",
              "  <svg xmlns=\"http://www.w3.org/2000/svg\" height=\"24px\" viewBox=\"0 -960 960 960\">\n",
              "    <path d=\"M120-120v-720h720v720H120Zm60-500h600v-160H180v160Zm220 220h160v-160H400v160Zm0 220h160v-160H400v160ZM180-400h160v-160H180v160Zm440 0h160v-160H620v160ZM180-180h160v-160H180v160Zm440 0h160v-160H620v160Z\"/>\n",
              "  </svg>\n",
              "    </button>\n",
              "\n",
              "  <style>\n",
              "    .colab-df-container {\n",
              "      display:flex;\n",
              "      gap: 12px;\n",
              "    }\n",
              "\n",
              "    .colab-df-convert {\n",
              "      background-color: #E8F0FE;\n",
              "      border: none;\n",
              "      border-radius: 50%;\n",
              "      cursor: pointer;\n",
              "      display: none;\n",
              "      fill: #1967D2;\n",
              "      height: 32px;\n",
              "      padding: 0 0 0 0;\n",
              "      width: 32px;\n",
              "    }\n",
              "\n",
              "    .colab-df-convert:hover {\n",
              "      background-color: #E2EBFA;\n",
              "      box-shadow: 0px 1px 2px rgba(60, 64, 67, 0.3), 0px 1px 3px 1px rgba(60, 64, 67, 0.15);\n",
              "      fill: #174EA6;\n",
              "    }\n",
              "\n",
              "    .colab-df-buttons div {\n",
              "      margin-bottom: 4px;\n",
              "    }\n",
              "\n",
              "    [theme=dark] .colab-df-convert {\n",
              "      background-color: #3B4455;\n",
              "      fill: #D2E3FC;\n",
              "    }\n",
              "\n",
              "    [theme=dark] .colab-df-convert:hover {\n",
              "      background-color: #434B5C;\n",
              "      box-shadow: 0px 1px 3px 1px rgba(0, 0, 0, 0.15);\n",
              "      filter: drop-shadow(0px 1px 2px rgba(0, 0, 0, 0.3));\n",
              "      fill: #FFFFFF;\n",
              "    }\n",
              "  </style>\n",
              "\n",
              "    <script>\n",
              "      const buttonEl =\n",
              "        document.querySelector('#df-e8698f99-529e-49ac-8079-148ac4a9b4ae button.colab-df-convert');\n",
              "      buttonEl.style.display =\n",
              "        google.colab.kernel.accessAllowed ? 'block' : 'none';\n",
              "\n",
              "      async function convertToInteractive(key) {\n",
              "        const element = document.querySelector('#df-e8698f99-529e-49ac-8079-148ac4a9b4ae');\n",
              "        const dataTable =\n",
              "          await google.colab.kernel.invokeFunction('convertToInteractive',\n",
              "                                                    [key], {});\n",
              "        if (!dataTable) return;\n",
              "\n",
              "        const docLinkHtml = 'Like what you see? Visit the ' +\n",
              "          '<a target=\"_blank\" href=https://colab.research.google.com/notebooks/data_table.ipynb>data table notebook</a>'\n",
              "          + ' to learn more about interactive tables.';\n",
              "        element.innerHTML = '';\n",
              "        dataTable['output_type'] = 'display_data';\n",
              "        await google.colab.output.renderOutput(dataTable, element);\n",
              "        const docLink = document.createElement('div');\n",
              "        docLink.innerHTML = docLinkHtml;\n",
              "        element.appendChild(docLink);\n",
              "      }\n",
              "    </script>\n",
              "  </div>\n",
              "\n",
              "\n",
              "<div id=\"df-69e1612e-4fb3-417d-936f-ad8b73b0dcdf\">\n",
              "  <button class=\"colab-df-quickchart\" onclick=\"quickchart('df-69e1612e-4fb3-417d-936f-ad8b73b0dcdf')\"\n",
              "            title=\"Suggest charts\"\n",
              "            style=\"display:none;\">\n",
              "\n",
              "<svg xmlns=\"http://www.w3.org/2000/svg\" height=\"24px\"viewBox=\"0 0 24 24\"\n",
              "     width=\"24px\">\n",
              "    <g>\n",
              "        <path d=\"M19 3H5c-1.1 0-2 .9-2 2v14c0 1.1.9 2 2 2h14c1.1 0 2-.9 2-2V5c0-1.1-.9-2-2-2zM9 17H7v-7h2v7zm4 0h-2V7h2v10zm4 0h-2v-4h2v4z\"/>\n",
              "    </g>\n",
              "</svg>\n",
              "  </button>\n",
              "\n",
              "<style>\n",
              "  .colab-df-quickchart {\n",
              "      --bg-color: #E8F0FE;\n",
              "      --fill-color: #1967D2;\n",
              "      --hover-bg-color: #E2EBFA;\n",
              "      --hover-fill-color: #174EA6;\n",
              "      --disabled-fill-color: #AAA;\n",
              "      --disabled-bg-color: #DDD;\n",
              "  }\n",
              "\n",
              "  [theme=dark] .colab-df-quickchart {\n",
              "      --bg-color: #3B4455;\n",
              "      --fill-color: #D2E3FC;\n",
              "      --hover-bg-color: #434B5C;\n",
              "      --hover-fill-color: #FFFFFF;\n",
              "      --disabled-bg-color: #3B4455;\n",
              "      --disabled-fill-color: #666;\n",
              "  }\n",
              "\n",
              "  .colab-df-quickchart {\n",
              "    background-color: var(--bg-color);\n",
              "    border: none;\n",
              "    border-radius: 50%;\n",
              "    cursor: pointer;\n",
              "    display: none;\n",
              "    fill: var(--fill-color);\n",
              "    height: 32px;\n",
              "    padding: 0;\n",
              "    width: 32px;\n",
              "  }\n",
              "\n",
              "  .colab-df-quickchart:hover {\n",
              "    background-color: var(--hover-bg-color);\n",
              "    box-shadow: 0 1px 2px rgba(60, 64, 67, 0.3), 0 1px 3px 1px rgba(60, 64, 67, 0.15);\n",
              "    fill: var(--button-hover-fill-color);\n",
              "  }\n",
              "\n",
              "  .colab-df-quickchart-complete:disabled,\n",
              "  .colab-df-quickchart-complete:disabled:hover {\n",
              "    background-color: var(--disabled-bg-color);\n",
              "    fill: var(--disabled-fill-color);\n",
              "    box-shadow: none;\n",
              "  }\n",
              "\n",
              "  .colab-df-spinner {\n",
              "    border: 2px solid var(--fill-color);\n",
              "    border-color: transparent;\n",
              "    border-bottom-color: var(--fill-color);\n",
              "    animation:\n",
              "      spin 1s steps(1) infinite;\n",
              "  }\n",
              "\n",
              "  @keyframes spin {\n",
              "    0% {\n",
              "      border-color: transparent;\n",
              "      border-bottom-color: var(--fill-color);\n",
              "      border-left-color: var(--fill-color);\n",
              "    }\n",
              "    20% {\n",
              "      border-color: transparent;\n",
              "      border-left-color: var(--fill-color);\n",
              "      border-top-color: var(--fill-color);\n",
              "    }\n",
              "    30% {\n",
              "      border-color: transparent;\n",
              "      border-left-color: var(--fill-color);\n",
              "      border-top-color: var(--fill-color);\n",
              "      border-right-color: var(--fill-color);\n",
              "    }\n",
              "    40% {\n",
              "      border-color: transparent;\n",
              "      border-right-color: var(--fill-color);\n",
              "      border-top-color: var(--fill-color);\n",
              "    }\n",
              "    60% {\n",
              "      border-color: transparent;\n",
              "      border-right-color: var(--fill-color);\n",
              "    }\n",
              "    80% {\n",
              "      border-color: transparent;\n",
              "      border-right-color: var(--fill-color);\n",
              "      border-bottom-color: var(--fill-color);\n",
              "    }\n",
              "    90% {\n",
              "      border-color: transparent;\n",
              "      border-bottom-color: var(--fill-color);\n",
              "    }\n",
              "  }\n",
              "</style>\n",
              "\n",
              "  <script>\n",
              "    async function quickchart(key) {\n",
              "      const quickchartButtonEl =\n",
              "        document.querySelector('#' + key + ' button');\n",
              "      quickchartButtonEl.disabled = true;  // To prevent multiple clicks.\n",
              "      quickchartButtonEl.classList.add('colab-df-spinner');\n",
              "      try {\n",
              "        const charts = await google.colab.kernel.invokeFunction(\n",
              "            'suggestCharts', [key], {});\n",
              "      } catch (error) {\n",
              "        console.error('Error during call to suggestCharts:', error);\n",
              "      }\n",
              "      quickchartButtonEl.classList.remove('colab-df-spinner');\n",
              "      quickchartButtonEl.classList.add('colab-df-quickchart-complete');\n",
              "    }\n",
              "    (() => {\n",
              "      let quickchartButtonEl =\n",
              "        document.querySelector('#df-69e1612e-4fb3-417d-936f-ad8b73b0dcdf button');\n",
              "      quickchartButtonEl.style.display =\n",
              "        google.colab.kernel.accessAllowed ? 'block' : 'none';\n",
              "    })();\n",
              "  </script>\n",
              "</div>\n",
              "    </div>\n",
              "  </div>\n"
            ],
            "application/vnd.google.colaboratory.intrinsic+json": {
              "type": "dataframe",
              "variable_name": "LUAD_cancer_matrix"
            }
          },
          "metadata": {},
          "execution_count": 58
        }
      ],
      "source": [
        "# CELL3\n",
        "LUAD_cancer_matrix = pd.read_csv('/content/LUAD_cancer_onlyCCDSpublic.tsv', index_col = 0, sep=\"\\t\")\n",
        "# Show only first 10 lines of the matrix (LUAD_cancer_matrix)\n",
        "LUAD_cancer_matrix.head(10)"
      ]
    },
    {
      "cell_type": "markdown",
      "source": [
        "# 3. Load files and divide into test and training set"
      ],
      "metadata": {
        "id": "06AiLv6l2iLu"
      }
    },
    {
      "cell_type": "code",
      "execution_count": 59,
      "metadata": {
        "id": "WBrXBayo0OVH"
      },
      "outputs": [],
      "source": [
        "# CELL4\n",
        "LUSC_cancer_matrix = pd.read_csv('/content/LUSC_cancer_onlyCCDSpublic.tsv', index_col = 0, sep=\"\\t\")\n",
        "\n",
        "merged_cancer_matrix = pd.concat([LUAD_cancer_matrix,LUSC_cancer_matrix], axis = 1)\n",
        "\n",
        "X = merged_cancer_matrix.T\n",
        "gene_names = list(X.columns.values)\n",
        "y = np.array(LUAD_cancer_matrix.shape[1]*[0] + LUSC_cancer_matrix.shape[1]*[1])\n",
        "\n",
        "X_train, X_test, y_train, y_test = train_test_split(X, y, test_size=0.3, random_state=0)"
      ]
    },
    {
      "cell_type": "markdown",
      "source": [
        "# 4. Load files and process fake set"
      ],
      "metadata": {
        "id": "kH4D7ezr2u8V"
      }
    },
    {
      "cell_type": "code",
      "execution_count": 60,
      "metadata": {
        "id": "jpxTQGrE0OVI"
      },
      "outputs": [],
      "source": [
        "# CELL5\n",
        "LUAD_normal_matrix = pd.read_csv('/content/LUAD_normal_onlyCCDSpublic.tsv', index_col = 0, sep=\"\\t\")\n",
        "LUSC_normal_matrix = pd.read_csv('/content/LUSC_normal_onlyCCDSpublic.tsv', index_col = 0, sep=\"\\t\")\n",
        "\n",
        "merged_normal_matrix = pd.concat([LUAD_normal_matrix,LUSC_normal_matrix], axis = 1)\n",
        "\n",
        "X_fake = merged_normal_matrix.T\n",
        "y_fake = np.array(LUAD_normal_matrix.shape[1]*[0] + LUSC_normal_matrix.shape[1]*[1])"
      ]
    },
    {
      "cell_type": "markdown",
      "source": [
        "# 5. SVM"
      ],
      "metadata": {
        "id": "bBKGn4BR21oT"
      }
    },
    {
      "cell_type": "code",
      "execution_count": 37,
      "metadata": {
        "id": "HYDq-TJU0OVI",
        "outputId": "5662f235-df71-424f-8be0-7505def6aaf6",
        "colab": {
          "base_uri": "https://localhost:8080/",
          "height": 74
        }
      },
      "outputs": [
        {
          "output_type": "execute_result",
          "data": {
            "text/plain": [
              "SVC(kernel='linear', random_state=0)"
            ],
            "text/html": [
              "<style>#sk-container-id-9 {color: black;background-color: white;}#sk-container-id-9 pre{padding: 0;}#sk-container-id-9 div.sk-toggleable {background-color: white;}#sk-container-id-9 label.sk-toggleable__label {cursor: pointer;display: block;width: 100%;margin-bottom: 0;padding: 0.3em;box-sizing: border-box;text-align: center;}#sk-container-id-9 label.sk-toggleable__label-arrow:before {content: \"▸\";float: left;margin-right: 0.25em;color: #696969;}#sk-container-id-9 label.sk-toggleable__label-arrow:hover:before {color: black;}#sk-container-id-9 div.sk-estimator:hover label.sk-toggleable__label-arrow:before {color: black;}#sk-container-id-9 div.sk-toggleable__content {max-height: 0;max-width: 0;overflow: hidden;text-align: left;background-color: #f0f8ff;}#sk-container-id-9 div.sk-toggleable__content pre {margin: 0.2em;color: black;border-radius: 0.25em;background-color: #f0f8ff;}#sk-container-id-9 input.sk-toggleable__control:checked~div.sk-toggleable__content {max-height: 200px;max-width: 100%;overflow: auto;}#sk-container-id-9 input.sk-toggleable__control:checked~label.sk-toggleable__label-arrow:before {content: \"▾\";}#sk-container-id-9 div.sk-estimator input.sk-toggleable__control:checked~label.sk-toggleable__label {background-color: #d4ebff;}#sk-container-id-9 div.sk-label input.sk-toggleable__control:checked~label.sk-toggleable__label {background-color: #d4ebff;}#sk-container-id-9 input.sk-hidden--visually {border: 0;clip: rect(1px 1px 1px 1px);clip: rect(1px, 1px, 1px, 1px);height: 1px;margin: -1px;overflow: hidden;padding: 0;position: absolute;width: 1px;}#sk-container-id-9 div.sk-estimator {font-family: monospace;background-color: #f0f8ff;border: 1px dotted black;border-radius: 0.25em;box-sizing: border-box;margin-bottom: 0.5em;}#sk-container-id-9 div.sk-estimator:hover {background-color: #d4ebff;}#sk-container-id-9 div.sk-parallel-item::after {content: \"\";width: 100%;border-bottom: 1px solid gray;flex-grow: 1;}#sk-container-id-9 div.sk-label:hover label.sk-toggleable__label {background-color: #d4ebff;}#sk-container-id-9 div.sk-serial::before {content: \"\";position: absolute;border-left: 1px solid gray;box-sizing: border-box;top: 0;bottom: 0;left: 50%;z-index: 0;}#sk-container-id-9 div.sk-serial {display: flex;flex-direction: column;align-items: center;background-color: white;padding-right: 0.2em;padding-left: 0.2em;position: relative;}#sk-container-id-9 div.sk-item {position: relative;z-index: 1;}#sk-container-id-9 div.sk-parallel {display: flex;align-items: stretch;justify-content: center;background-color: white;position: relative;}#sk-container-id-9 div.sk-item::before, #sk-container-id-9 div.sk-parallel-item::before {content: \"\";position: absolute;border-left: 1px solid gray;box-sizing: border-box;top: 0;bottom: 0;left: 50%;z-index: -1;}#sk-container-id-9 div.sk-parallel-item {display: flex;flex-direction: column;z-index: 1;position: relative;background-color: white;}#sk-container-id-9 div.sk-parallel-item:first-child::after {align-self: flex-end;width: 50%;}#sk-container-id-9 div.sk-parallel-item:last-child::after {align-self: flex-start;width: 50%;}#sk-container-id-9 div.sk-parallel-item:only-child::after {width: 0;}#sk-container-id-9 div.sk-dashed-wrapped {border: 1px dashed gray;margin: 0 0.4em 0.5em 0.4em;box-sizing: border-box;padding-bottom: 0.4em;background-color: white;}#sk-container-id-9 div.sk-label label {font-family: monospace;font-weight: bold;display: inline-block;line-height: 1.2em;}#sk-container-id-9 div.sk-label-container {text-align: center;}#sk-container-id-9 div.sk-container {/* jupyter's `normalize.less` sets `[hidden] { display: none; }` but bootstrap.min.css set `[hidden] { display: none !important; }` so we also need the `!important` here to be able to override the default hidden behavior on the sphinx rendered scikit-learn.org. See: https://github.com/scikit-learn/scikit-learn/issues/21755 */display: inline-block !important;position: relative;}#sk-container-id-9 div.sk-text-repr-fallback {display: none;}</style><div id=\"sk-container-id-9\" class=\"sk-top-container\"><div class=\"sk-text-repr-fallback\"><pre>SVC(kernel=&#x27;linear&#x27;, random_state=0)</pre><b>In a Jupyter environment, please rerun this cell to show the HTML representation or trust the notebook. <br />On GitHub, the HTML representation is unable to render, please try loading this page with nbviewer.org.</b></div><div class=\"sk-container\" hidden><div class=\"sk-item\"><div class=\"sk-estimator sk-toggleable\"><input class=\"sk-toggleable__control sk-hidden--visually\" id=\"sk-estimator-id-9\" type=\"checkbox\" checked><label for=\"sk-estimator-id-9\" class=\"sk-toggleable__label sk-toggleable__label-arrow\">SVC</label><div class=\"sk-toggleable__content\"><pre>SVC(kernel=&#x27;linear&#x27;, random_state=0)</pre></div></div></div></div></div>"
            ]
          },
          "metadata": {},
          "execution_count": 37
        }
      ],
      "source": [
        "# CELL6 - Make models with train-set\n",
        "svm = SVC(kernel='linear', C =1.0, random_state=0)\n",
        "svm.fit(X_train, y_train)"
      ]
    },
    {
      "cell_type": "code",
      "execution_count": 38,
      "metadata": {
        "id": "SFBlWAuj0OVI",
        "outputId": "f5f55b14-b7b3-445f-bba4-cb79e1dfda37",
        "colab": {
          "base_uri": "https://localhost:8080/"
        }
      },
      "outputs": [
        {
          "output_type": "stream",
          "name": "stdout",
          "text": [
            "Train-set accuracy of SVM: 1.00\n",
            "Test-set accuracy of SVM: 0.93\n"
          ]
        }
      ],
      "source": [
        "# CELL7 - Apply models to test-set and calculate the accuracy of each model\n",
        "y_pred_train = svm.predict(X_train)\n",
        "y_pred_test = svm.predict(X_test)\n",
        "print('Train-set accuracy of SVM: %.2f' % accuracy_score(y_train, y_pred_train))\n",
        "print('Test-set accuracy of SVM: %.2f' % accuracy_score(y_test, y_pred_test))"
      ]
    },
    {
      "cell_type": "code",
      "execution_count": 39,
      "metadata": {
        "id": "NnqMFwAm0OVI",
        "outputId": "841815d6-407a-4f59-d0b2-9523413108b0",
        "colab": {
          "base_uri": "https://localhost:8080/"
        }
      },
      "outputs": [
        {
          "output_type": "stream",
          "name": "stdout",
          "text": [
            "Fake-set accuracy of SVM: 0.46\n"
          ]
        }
      ],
      "source": [
        "# CELL8 - Apply models to fake-set and calculate the accuracy of each model\n",
        "y_pred_fake = svm.predict(X_fake)\n",
        "print('Fake-set accuracy of SVM: %.2f' % accuracy_score(y_fake, y_pred_fake))"
      ]
    },
    {
      "cell_type": "markdown",
      "source": [
        "# 6. MLP"
      ],
      "metadata": {
        "id": "JugTNW6I3DhW"
      }
    },
    {
      "cell_type": "code",
      "execution_count": 40,
      "metadata": {
        "id": "Z-o9R-0N0OVJ",
        "outputId": "e87ef888-b26b-40db-d6bb-1c8c2fa52a67",
        "colab": {
          "base_uri": "https://localhost:8080/",
          "height": 91
        }
      },
      "outputs": [
        {
          "output_type": "execute_result",
          "data": {
            "text/plain": [
              "MLPClassifier(hidden_layer_sizes=(10, 15, 30, 10), learning_rate_init=0.01,\n",
              "              max_iter=1000, random_state=0)"
            ],
            "text/html": [
              "<style>#sk-container-id-10 {color: black;background-color: white;}#sk-container-id-10 pre{padding: 0;}#sk-container-id-10 div.sk-toggleable {background-color: white;}#sk-container-id-10 label.sk-toggleable__label {cursor: pointer;display: block;width: 100%;margin-bottom: 0;padding: 0.3em;box-sizing: border-box;text-align: center;}#sk-container-id-10 label.sk-toggleable__label-arrow:before {content: \"▸\";float: left;margin-right: 0.25em;color: #696969;}#sk-container-id-10 label.sk-toggleable__label-arrow:hover:before {color: black;}#sk-container-id-10 div.sk-estimator:hover label.sk-toggleable__label-arrow:before {color: black;}#sk-container-id-10 div.sk-toggleable__content {max-height: 0;max-width: 0;overflow: hidden;text-align: left;background-color: #f0f8ff;}#sk-container-id-10 div.sk-toggleable__content pre {margin: 0.2em;color: black;border-radius: 0.25em;background-color: #f0f8ff;}#sk-container-id-10 input.sk-toggleable__control:checked~div.sk-toggleable__content {max-height: 200px;max-width: 100%;overflow: auto;}#sk-container-id-10 input.sk-toggleable__control:checked~label.sk-toggleable__label-arrow:before {content: \"▾\";}#sk-container-id-10 div.sk-estimator input.sk-toggleable__control:checked~label.sk-toggleable__label {background-color: #d4ebff;}#sk-container-id-10 div.sk-label input.sk-toggleable__control:checked~label.sk-toggleable__label {background-color: #d4ebff;}#sk-container-id-10 input.sk-hidden--visually {border: 0;clip: rect(1px 1px 1px 1px);clip: rect(1px, 1px, 1px, 1px);height: 1px;margin: -1px;overflow: hidden;padding: 0;position: absolute;width: 1px;}#sk-container-id-10 div.sk-estimator {font-family: monospace;background-color: #f0f8ff;border: 1px dotted black;border-radius: 0.25em;box-sizing: border-box;margin-bottom: 0.5em;}#sk-container-id-10 div.sk-estimator:hover {background-color: #d4ebff;}#sk-container-id-10 div.sk-parallel-item::after {content: \"\";width: 100%;border-bottom: 1px solid gray;flex-grow: 1;}#sk-container-id-10 div.sk-label:hover label.sk-toggleable__label {background-color: #d4ebff;}#sk-container-id-10 div.sk-serial::before {content: \"\";position: absolute;border-left: 1px solid gray;box-sizing: border-box;top: 0;bottom: 0;left: 50%;z-index: 0;}#sk-container-id-10 div.sk-serial {display: flex;flex-direction: column;align-items: center;background-color: white;padding-right: 0.2em;padding-left: 0.2em;position: relative;}#sk-container-id-10 div.sk-item {position: relative;z-index: 1;}#sk-container-id-10 div.sk-parallel {display: flex;align-items: stretch;justify-content: center;background-color: white;position: relative;}#sk-container-id-10 div.sk-item::before, #sk-container-id-10 div.sk-parallel-item::before {content: \"\";position: absolute;border-left: 1px solid gray;box-sizing: border-box;top: 0;bottom: 0;left: 50%;z-index: -1;}#sk-container-id-10 div.sk-parallel-item {display: flex;flex-direction: column;z-index: 1;position: relative;background-color: white;}#sk-container-id-10 div.sk-parallel-item:first-child::after {align-self: flex-end;width: 50%;}#sk-container-id-10 div.sk-parallel-item:last-child::after {align-self: flex-start;width: 50%;}#sk-container-id-10 div.sk-parallel-item:only-child::after {width: 0;}#sk-container-id-10 div.sk-dashed-wrapped {border: 1px dashed gray;margin: 0 0.4em 0.5em 0.4em;box-sizing: border-box;padding-bottom: 0.4em;background-color: white;}#sk-container-id-10 div.sk-label label {font-family: monospace;font-weight: bold;display: inline-block;line-height: 1.2em;}#sk-container-id-10 div.sk-label-container {text-align: center;}#sk-container-id-10 div.sk-container {/* jupyter's `normalize.less` sets `[hidden] { display: none; }` but bootstrap.min.css set `[hidden] { display: none !important; }` so we also need the `!important` here to be able to override the default hidden behavior on the sphinx rendered scikit-learn.org. See: https://github.com/scikit-learn/scikit-learn/issues/21755 */display: inline-block !important;position: relative;}#sk-container-id-10 div.sk-text-repr-fallback {display: none;}</style><div id=\"sk-container-id-10\" class=\"sk-top-container\"><div class=\"sk-text-repr-fallback\"><pre>MLPClassifier(hidden_layer_sizes=(10, 15, 30, 10), learning_rate_init=0.01,\n",
              "              max_iter=1000, random_state=0)</pre><b>In a Jupyter environment, please rerun this cell to show the HTML representation or trust the notebook. <br />On GitHub, the HTML representation is unable to render, please try loading this page with nbviewer.org.</b></div><div class=\"sk-container\" hidden><div class=\"sk-item\"><div class=\"sk-estimator sk-toggleable\"><input class=\"sk-toggleable__control sk-hidden--visually\" id=\"sk-estimator-id-10\" type=\"checkbox\" checked><label for=\"sk-estimator-id-10\" class=\"sk-toggleable__label sk-toggleable__label-arrow\">MLPClassifier</label><div class=\"sk-toggleable__content\"><pre>MLPClassifier(hidden_layer_sizes=(10, 15, 30, 10), learning_rate_init=0.01,\n",
              "              max_iter=1000, random_state=0)</pre></div></div></div></div></div>"
            ]
          },
          "metadata": {},
          "execution_count": 40
        }
      ],
      "source": [
        "# CELL9\n",
        "mlp = MLPClassifier(activation='relu', max_iter=1000, learning_rate='constant',\n",
        "                    random_state=0, learning_rate_init=0.01, hidden_layer_sizes=(10, 15, 30,10))\n",
        "mlp.fit(X_train, y_train)"
      ]
    },
    {
      "cell_type": "code",
      "execution_count": 41,
      "metadata": {
        "id": "H6fNqWRe0OVJ",
        "outputId": "32dd1e21-4256-46f2-8ed5-39723deea88c",
        "colab": {
          "base_uri": "https://localhost:8080/"
        }
      },
      "outputs": [
        {
          "output_type": "stream",
          "name": "stdout",
          "text": [
            "Train-set accuracy of ANN: 0.97\n",
            "Test-set accuracy of ANN: 0.95\n"
          ]
        }
      ],
      "source": [
        "# CELL10\n",
        "y_pred_train = mlp.predict(X_train)\n",
        "y_pred_test = mlp.predict(X_test)\n",
        "print('Train-set accuracy of ANN: %.2f' % accuracy_score(y_train, y_pred_train))\n",
        "print('Test-set accuracy of ANN: %.2f' % accuracy_score(y_test, y_pred_test))"
      ]
    },
    {
      "cell_type": "code",
      "execution_count": 44,
      "metadata": {
        "id": "AQCdnl6n0OVJ",
        "outputId": "7018c489-a902-400c-8c9c-6d3154c51e2a",
        "colab": {
          "base_uri": "https://localhost:8080/"
        }
      },
      "outputs": [
        {
          "output_type": "stream",
          "name": "stdout",
          "text": [
            "Fake-set accuracy of ANN: 0.53\n"
          ]
        }
      ],
      "source": [
        "# CELL11\n",
        "y_pred_fake = mlp.predict(X_fake)\n",
        "print('Fake-set accuracy of ANN: %.2f' % accuracy_score(y_fake, y_pred_fake))"
      ]
    },
    {
      "cell_type": "markdown",
      "source": [
        "# 7. Decision Tree"
      ],
      "metadata": {
        "id": "Zpy026Fz3Fx5"
      }
    },
    {
      "cell_type": "code",
      "execution_count": 43,
      "metadata": {
        "id": "y3DDOzEj0OVK",
        "outputId": "937d7632-d932-4bae-8e5b-48b56b1e92ee",
        "colab": {
          "base_uri": "https://localhost:8080/",
          "height": 74
        }
      },
      "outputs": [
        {
          "data": {
            "text/html": [
              "<style>#sk-container-id-11 {color: black;background-color: white;}#sk-container-id-11 pre{padding: 0;}#sk-container-id-11 div.sk-toggleable {background-color: white;}#sk-container-id-11 label.sk-toggleable__label {cursor: pointer;display: block;width: 100%;margin-bottom: 0;padding: 0.3em;box-sizing: border-box;text-align: center;}#sk-container-id-11 label.sk-toggleable__label-arrow:before {content: \"▸\";float: left;margin-right: 0.25em;color: #696969;}#sk-container-id-11 label.sk-toggleable__label-arrow:hover:before {color: black;}#sk-container-id-11 div.sk-estimator:hover label.sk-toggleable__label-arrow:before {color: black;}#sk-container-id-11 div.sk-toggleable__content {max-height: 0;max-width: 0;overflow: hidden;text-align: left;background-color: #f0f8ff;}#sk-container-id-11 div.sk-toggleable__content pre {margin: 0.2em;color: black;border-radius: 0.25em;background-color: #f0f8ff;}#sk-container-id-11 input.sk-toggleable__control:checked~div.sk-toggleable__content {max-height: 200px;max-width: 100%;overflow: auto;}#sk-container-id-11 input.sk-toggleable__control:checked~label.sk-toggleable__label-arrow:before {content: \"▾\";}#sk-container-id-11 div.sk-estimator input.sk-toggleable__control:checked~label.sk-toggleable__label {background-color: #d4ebff;}#sk-container-id-11 div.sk-label input.sk-toggleable__control:checked~label.sk-toggleable__label {background-color: #d4ebff;}#sk-container-id-11 input.sk-hidden--visually {border: 0;clip: rect(1px 1px 1px 1px);clip: rect(1px, 1px, 1px, 1px);height: 1px;margin: -1px;overflow: hidden;padding: 0;position: absolute;width: 1px;}#sk-container-id-11 div.sk-estimator {font-family: monospace;background-color: #f0f8ff;border: 1px dotted black;border-radius: 0.25em;box-sizing: border-box;margin-bottom: 0.5em;}#sk-container-id-11 div.sk-estimator:hover {background-color: #d4ebff;}#sk-container-id-11 div.sk-parallel-item::after {content: \"\";width: 100%;border-bottom: 1px solid gray;flex-grow: 1;}#sk-container-id-11 div.sk-label:hover label.sk-toggleable__label {background-color: #d4ebff;}#sk-container-id-11 div.sk-serial::before {content: \"\";position: absolute;border-left: 1px solid gray;box-sizing: border-box;top: 0;bottom: 0;left: 50%;z-index: 0;}#sk-container-id-11 div.sk-serial {display: flex;flex-direction: column;align-items: center;background-color: white;padding-right: 0.2em;padding-left: 0.2em;position: relative;}#sk-container-id-11 div.sk-item {position: relative;z-index: 1;}#sk-container-id-11 div.sk-parallel {display: flex;align-items: stretch;justify-content: center;background-color: white;position: relative;}#sk-container-id-11 div.sk-item::before, #sk-container-id-11 div.sk-parallel-item::before {content: \"\";position: absolute;border-left: 1px solid gray;box-sizing: border-box;top: 0;bottom: 0;left: 50%;z-index: -1;}#sk-container-id-11 div.sk-parallel-item {display: flex;flex-direction: column;z-index: 1;position: relative;background-color: white;}#sk-container-id-11 div.sk-parallel-item:first-child::after {align-self: flex-end;width: 50%;}#sk-container-id-11 div.sk-parallel-item:last-child::after {align-self: flex-start;width: 50%;}#sk-container-id-11 div.sk-parallel-item:only-child::after {width: 0;}#sk-container-id-11 div.sk-dashed-wrapped {border: 1px dashed gray;margin: 0 0.4em 0.5em 0.4em;box-sizing: border-box;padding-bottom: 0.4em;background-color: white;}#sk-container-id-11 div.sk-label label {font-family: monospace;font-weight: bold;display: inline-block;line-height: 1.2em;}#sk-container-id-11 div.sk-label-container {text-align: center;}#sk-container-id-11 div.sk-container {/* jupyter's `normalize.less` sets `[hidden] { display: none; }` but bootstrap.min.css set `[hidden] { display: none !important; }` so we also need the `!important` here to be able to override the default hidden behavior on the sphinx rendered scikit-learn.org. See: https://github.com/scikit-learn/scikit-learn/issues/21755 */display: inline-block !important;position: relative;}#sk-container-id-11 div.sk-text-repr-fallback {display: none;}</style><div id=\"sk-container-id-11\" class=\"sk-top-container\"><div class=\"sk-text-repr-fallback\"><pre>DecisionTreeClassifier(criterion=&#x27;entropy&#x27;, max_depth=4, random_state=0)</pre><b>In a Jupyter environment, please rerun this cell to show the HTML representation or trust the notebook. <br />On GitHub, the HTML representation is unable to render, please try loading this page with nbviewer.org.</b></div><div class=\"sk-container\" hidden><div class=\"sk-item\"><div class=\"sk-estimator sk-toggleable\"><input class=\"sk-toggleable__control sk-hidden--visually\" id=\"sk-estimator-id-11\" type=\"checkbox\" checked><label for=\"sk-estimator-id-11\" class=\"sk-toggleable__label sk-toggleable__label-arrow\">DecisionTreeClassifier</label><div class=\"sk-toggleable__content\"><pre>DecisionTreeClassifier(criterion=&#x27;entropy&#x27;, max_depth=4, random_state=0)</pre></div></div></div></div></div>"
            ],
            "text/plain": [
              "DecisionTreeClassifier(criterion='entropy', max_depth=4, random_state=0)"
            ]
          },
          "execution_count": 43,
          "metadata": {},
          "output_type": "execute_result"
        }
      ],
      "source": [
        "# CELL12\n",
        "my_tree = DecisionTreeClassifier(criterion='entropy', max_depth=4, random_state=0)\n",
        "my_tree.fit(X_train, y_train)"
      ]
    },
    {
      "cell_type": "code",
      "execution_count": 45,
      "metadata": {
        "id": "9m2aIg1X0OVK",
        "outputId": "dac6de05-b983-458b-9be5-18213f253b47",
        "colab": {
          "base_uri": "https://localhost:8080/"
        }
      },
      "outputs": [
        {
          "output_type": "stream",
          "name": "stdout",
          "text": [
            "Train-set accuracy of Decision tree: 0.99\n",
            "Test-set accuracy of Decision tree: 0.94\n"
          ]
        }
      ],
      "source": [
        "# CELL13\n",
        "y_pred_train = my_tree.predict(X_train)\n",
        "y_pred = my_tree.predict(X_test)\n",
        "print('Train-set accuracy of Decision tree: %.2f' % accuracy_score(y_train, y_pred_train))\n",
        "print('Test-set accuracy of Decision tree: %.2f' % accuracy_score(y_test, y_pred))"
      ]
    },
    {
      "cell_type": "code",
      "execution_count": 46,
      "metadata": {
        "id": "6XAeaRyY0OVK",
        "outputId": "e492e088-b3ff-49dd-9ecf-693525a6cf9d",
        "colab": {
          "base_uri": "https://localhost:8080/"
        }
      },
      "outputs": [
        {
          "output_type": "stream",
          "name": "stdout",
          "text": [
            "Fake-set accuracy of Decision tree: 0.57\n"
          ]
        }
      ],
      "source": [
        "# CELL14\n",
        "y_pred_fake = my_tree.predict(X_fake)\n",
        "print('Fake-set accuracy of Decision tree: %.2f' % accuracy_score(y_fake, y_pred_fake))"
      ]
    },
    {
      "cell_type": "code",
      "execution_count": 47,
      "metadata": {
        "id": "XkofkZC60OVK",
        "outputId": "6e87a2b9-c557-4ed0-dfea-c7504fd2f6c3",
        "colab": {
          "base_uri": "https://localhost:8080/",
          "height": 35
        }
      },
      "outputs": [
        {
          "output_type": "execute_result",
          "data": {
            "text/plain": [
              "'tree.pdf'"
            ],
            "application/vnd.google.colaboratory.intrinsic+json": {
              "type": "string"
            }
          },
          "metadata": {},
          "execution_count": 47
        }
      ],
      "source": [
        "# CELL15\n",
        "import graphviz\n",
        "dot_data = tree.export_graphviz(my_tree, out_file=None, feature_names = gene_names)\n",
        "graph = graphviz.Source(dot_data)\n",
        "graph.render(\"tree\")"
      ]
    },
    {
      "cell_type": "markdown",
      "source": [
        "# 8. Random Forest"
      ],
      "metadata": {
        "id": "KzoaaGgb3K8D"
      }
    },
    {
      "cell_type": "code",
      "execution_count": 73,
      "metadata": {
        "id": "hd9hSLKC0OVK",
        "outputId": "dc712b82-9e6a-4909-fed8-2ac203b54276",
        "colab": {
          "base_uri": "https://localhost:8080/",
          "height": 91
        }
      },
      "outputs": [
        {
          "output_type": "execute_result",
          "data": {
            "text/plain": [
              "RandomForestClassifier(criterion='entropy', max_depth=15, max_features=None,\n",
              "                       n_estimators=20, n_jobs=-1, random_state=1)"
            ],
            "text/html": [
              "<style>#sk-container-id-20 {color: black;background-color: white;}#sk-container-id-20 pre{padding: 0;}#sk-container-id-20 div.sk-toggleable {background-color: white;}#sk-container-id-20 label.sk-toggleable__label {cursor: pointer;display: block;width: 100%;margin-bottom: 0;padding: 0.3em;box-sizing: border-box;text-align: center;}#sk-container-id-20 label.sk-toggleable__label-arrow:before {content: \"▸\";float: left;margin-right: 0.25em;color: #696969;}#sk-container-id-20 label.sk-toggleable__label-arrow:hover:before {color: black;}#sk-container-id-20 div.sk-estimator:hover label.sk-toggleable__label-arrow:before {color: black;}#sk-container-id-20 div.sk-toggleable__content {max-height: 0;max-width: 0;overflow: hidden;text-align: left;background-color: #f0f8ff;}#sk-container-id-20 div.sk-toggleable__content pre {margin: 0.2em;color: black;border-radius: 0.25em;background-color: #f0f8ff;}#sk-container-id-20 input.sk-toggleable__control:checked~div.sk-toggleable__content {max-height: 200px;max-width: 100%;overflow: auto;}#sk-container-id-20 input.sk-toggleable__control:checked~label.sk-toggleable__label-arrow:before {content: \"▾\";}#sk-container-id-20 div.sk-estimator input.sk-toggleable__control:checked~label.sk-toggleable__label {background-color: #d4ebff;}#sk-container-id-20 div.sk-label input.sk-toggleable__control:checked~label.sk-toggleable__label {background-color: #d4ebff;}#sk-container-id-20 input.sk-hidden--visually {border: 0;clip: rect(1px 1px 1px 1px);clip: rect(1px, 1px, 1px, 1px);height: 1px;margin: -1px;overflow: hidden;padding: 0;position: absolute;width: 1px;}#sk-container-id-20 div.sk-estimator {font-family: monospace;background-color: #f0f8ff;border: 1px dotted black;border-radius: 0.25em;box-sizing: border-box;margin-bottom: 0.5em;}#sk-container-id-20 div.sk-estimator:hover {background-color: #d4ebff;}#sk-container-id-20 div.sk-parallel-item::after {content: \"\";width: 100%;border-bottom: 1px solid gray;flex-grow: 1;}#sk-container-id-20 div.sk-label:hover label.sk-toggleable__label {background-color: #d4ebff;}#sk-container-id-20 div.sk-serial::before {content: \"\";position: absolute;border-left: 1px solid gray;box-sizing: border-box;top: 0;bottom: 0;left: 50%;z-index: 0;}#sk-container-id-20 div.sk-serial {display: flex;flex-direction: column;align-items: center;background-color: white;padding-right: 0.2em;padding-left: 0.2em;position: relative;}#sk-container-id-20 div.sk-item {position: relative;z-index: 1;}#sk-container-id-20 div.sk-parallel {display: flex;align-items: stretch;justify-content: center;background-color: white;position: relative;}#sk-container-id-20 div.sk-item::before, #sk-container-id-20 div.sk-parallel-item::before {content: \"\";position: absolute;border-left: 1px solid gray;box-sizing: border-box;top: 0;bottom: 0;left: 50%;z-index: -1;}#sk-container-id-20 div.sk-parallel-item {display: flex;flex-direction: column;z-index: 1;position: relative;background-color: white;}#sk-container-id-20 div.sk-parallel-item:first-child::after {align-self: flex-end;width: 50%;}#sk-container-id-20 div.sk-parallel-item:last-child::after {align-self: flex-start;width: 50%;}#sk-container-id-20 div.sk-parallel-item:only-child::after {width: 0;}#sk-container-id-20 div.sk-dashed-wrapped {border: 1px dashed gray;margin: 0 0.4em 0.5em 0.4em;box-sizing: border-box;padding-bottom: 0.4em;background-color: white;}#sk-container-id-20 div.sk-label label {font-family: monospace;font-weight: bold;display: inline-block;line-height: 1.2em;}#sk-container-id-20 div.sk-label-container {text-align: center;}#sk-container-id-20 div.sk-container {/* jupyter's `normalize.less` sets `[hidden] { display: none; }` but bootstrap.min.css set `[hidden] { display: none !important; }` so we also need the `!important` here to be able to override the default hidden behavior on the sphinx rendered scikit-learn.org. See: https://github.com/scikit-learn/scikit-learn/issues/21755 */display: inline-block !important;position: relative;}#sk-container-id-20 div.sk-text-repr-fallback {display: none;}</style><div id=\"sk-container-id-20\" class=\"sk-top-container\"><div class=\"sk-text-repr-fallback\"><pre>RandomForestClassifier(criterion=&#x27;entropy&#x27;, max_depth=15, max_features=None,\n",
              "                       n_estimators=20, n_jobs=-1, random_state=1)</pre><b>In a Jupyter environment, please rerun this cell to show the HTML representation or trust the notebook. <br />On GitHub, the HTML representation is unable to render, please try loading this page with nbviewer.org.</b></div><div class=\"sk-container\" hidden><div class=\"sk-item\"><div class=\"sk-estimator sk-toggleable\"><input class=\"sk-toggleable__control sk-hidden--visually\" id=\"sk-estimator-id-20\" type=\"checkbox\" checked><label for=\"sk-estimator-id-20\" class=\"sk-toggleable__label sk-toggleable__label-arrow\">RandomForestClassifier</label><div class=\"sk-toggleable__content\"><pre>RandomForestClassifier(criterion=&#x27;entropy&#x27;, max_depth=15, max_features=None,\n",
              "                       n_estimators=20, n_jobs=-1, random_state=1)</pre></div></div></div></div></div>"
            ]
          },
          "metadata": {},
          "execution_count": 73
        }
      ],
      "source": [
        "# CELL16\n",
        "forest = RandomForestClassifier(criterion='entropy', n_estimators=20, max_depth=15,\n",
        "                                max_features=None, random_state=1, n_jobs=-1)\n",
        "forest.fit(X_train, y_train)"
      ]
    },
    {
      "cell_type": "code",
      "execution_count": 74,
      "metadata": {
        "id": "Aexm9rF40OVL",
        "outputId": "eede6b49-d3dc-4cc0-a642-3448fc3ff479",
        "colab": {
          "base_uri": "https://localhost:8080/"
        }
      },
      "outputs": [
        {
          "output_type": "stream",
          "name": "stdout",
          "text": [
            "Train-set accuracy of Random Forest: 1.00\n",
            "Test-set accuracy of Random Forest: 0.95\n"
          ]
        }
      ],
      "source": [
        "# CELL17\n",
        "y_pred_train = forest.predict(X_train)\n",
        "y_pred = forest.predict(X_test)\n",
        "print('Train-set accuracy of Random Forest: %.2f' % accuracy_score(y_train, y_pred_train))\n",
        "print('Test-set accuracy of Random Forest: %.2f' % accuracy_score(y_test, y_pred))"
      ]
    },
    {
      "cell_type": "code",
      "execution_count": 75,
      "metadata": {
        "id": "MePA1zgc0OVL",
        "outputId": "65d5fff3-c5a1-4cbd-f645-fde5fb165b91",
        "colab": {
          "base_uri": "https://localhost:8080/"
        }
      },
      "outputs": [
        {
          "output_type": "stream",
          "name": "stdout",
          "text": [
            "Fake-set accuracy of Random Forest: 0.54\n"
          ]
        }
      ],
      "source": [
        "# CELL18\n",
        "y_pred_fake = forest.predict(X_fake)\n",
        "print('Fake-set accuracy of Random Forest: %.2f' % accuracy_score(y_fake, y_pred_fake))"
      ]
    }
  ],
  "metadata": {
    "kernelspec": {
      "display_name": "Python 3",
      "name": "python3"
    },
    "language_info": {
      "codemirror_mode": {
        "name": "ipython",
        "version": 3
      },
      "file_extension": ".py",
      "mimetype": "text/x-python",
      "name": "python",
      "nbconvert_exporter": "python",
      "pygments_lexer": "ipython3",
      "version": "3.7.6"
    },
    "colab": {
      "provenance": [],
      "gpuType": "T4",
      "include_colab_link": true
    }
  },
  "nbformat": 4,
  "nbformat_minor": 0
}